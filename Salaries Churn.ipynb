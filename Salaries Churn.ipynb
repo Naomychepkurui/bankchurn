{
 "cells": [
  {
   "cell_type": "code",
   "execution_count": 7,
   "id": "ae4778b5",
   "metadata": {},
   "outputs": [],
   "source": [
    "import pandas as pd\n",
    "import numpy as np\n",
    "import seaborn as sb\n",
    "import matplotlib.pyplot as mpl\n",
    "from sklearn.linear_model import LinearRegression\n",
    "from sklearn.preprocessing import LabelEncoder, StandardScaler, normalize"
   ]
  },
  {
   "cell_type": "code",
   "execution_count": 17,
   "id": "17976b4c",
   "metadata": {},
   "outputs": [],
   "source": [
    "# Load the dataset\n",
    "\n",
    "db = pd.read_csv(\"C://Users/wawes/OneDrive/Desktop/ZETECH UNIVERSITY/Y4S2/MACHINE LEARNING/Topic 2/Salary Dataset.csv\")"
   ]
  },
  {
   "cell_type": "code",
   "execution_count": 18,
   "id": "90c16148",
   "metadata": {
    "scrolled": false
   },
   "outputs": [
    {
     "data": {
      "text/html": [
       "<div>\n",
       "<style scoped>\n",
       "    .dataframe tbody tr th:only-of-type {\n",
       "        vertical-align: middle;\n",
       "    }\n",
       "\n",
       "    .dataframe tbody tr th {\n",
       "        vertical-align: top;\n",
       "    }\n",
       "\n",
       "    .dataframe thead th {\n",
       "        text-align: right;\n",
       "    }\n",
       "</style>\n",
       "<table border=\"1\" class=\"dataframe\">\n",
       "  <thead>\n",
       "    <tr style=\"text-align: right;\">\n",
       "      <th></th>\n",
       "      <th>Company Name</th>\n",
       "      <th>Job Title</th>\n",
       "      <th>Salaries Reported</th>\n",
       "      <th>Location</th>\n",
       "      <th>Salary</th>\n",
       "    </tr>\n",
       "  </thead>\n",
       "  <tbody>\n",
       "    <tr>\n",
       "      <th>0</th>\n",
       "      <td>Mu Sigma</td>\n",
       "      <td>Data Scientist</td>\n",
       "      <td>105.0</td>\n",
       "      <td>Bangalore</td>\n",
       "      <td>₹6,48,573/yr</td>\n",
       "    </tr>\n",
       "    <tr>\n",
       "      <th>1</th>\n",
       "      <td>IBM</td>\n",
       "      <td>Data Scientist</td>\n",
       "      <td>95.0</td>\n",
       "      <td>Bangalore</td>\n",
       "      <td>₹11,91,950/yr</td>\n",
       "    </tr>\n",
       "    <tr>\n",
       "      <th>2</th>\n",
       "      <td>Tata Consultancy Services</td>\n",
       "      <td>Data Scientist</td>\n",
       "      <td>66.0</td>\n",
       "      <td>Bangalore</td>\n",
       "      <td>₹8,36,874/yr</td>\n",
       "    </tr>\n",
       "    <tr>\n",
       "      <th>3</th>\n",
       "      <td>Impact Analytics</td>\n",
       "      <td>Data Scientist</td>\n",
       "      <td>40.0</td>\n",
       "      <td>Bangalore</td>\n",
       "      <td>₹6,69,578/yr</td>\n",
       "    </tr>\n",
       "    <tr>\n",
       "      <th>4</th>\n",
       "      <td>Accenture</td>\n",
       "      <td>Data Scientist</td>\n",
       "      <td>32.0</td>\n",
       "      <td>Bangalore</td>\n",
       "      <td>₹9,44,110/yr</td>\n",
       "    </tr>\n",
       "    <tr>\n",
       "      <th>...</th>\n",
       "      <td>...</td>\n",
       "      <td>...</td>\n",
       "      <td>...</td>\n",
       "      <td>...</td>\n",
       "      <td>...</td>\n",
       "    </tr>\n",
       "    <tr>\n",
       "      <th>4339</th>\n",
       "      <td>TaiyōAI</td>\n",
       "      <td>Machine Learning Scientist</td>\n",
       "      <td>1.0</td>\n",
       "      <td>Mumbai</td>\n",
       "      <td>₹5,180/mo</td>\n",
       "    </tr>\n",
       "    <tr>\n",
       "      <th>4340</th>\n",
       "      <td>Decimal Point Analytics</td>\n",
       "      <td>Machine Learning Developer</td>\n",
       "      <td>1.0</td>\n",
       "      <td>Mumbai</td>\n",
       "      <td>₹7,51,286/yr</td>\n",
       "    </tr>\n",
       "    <tr>\n",
       "      <th>4341</th>\n",
       "      <td>MyWays</td>\n",
       "      <td>Machine Learning Developer</td>\n",
       "      <td>1.0</td>\n",
       "      <td>Mumbai</td>\n",
       "      <td>₹4,10,952/yr</td>\n",
       "    </tr>\n",
       "    <tr>\n",
       "      <th>4342</th>\n",
       "      <td>Market Pulse Technologies</td>\n",
       "      <td>Software Engineer - Machine Learning</td>\n",
       "      <td>1.0</td>\n",
       "      <td>Mumbai</td>\n",
       "      <td>₹16,12,324/yr</td>\n",
       "    </tr>\n",
       "    <tr>\n",
       "      <th>4343</th>\n",
       "      <td>vPhrase</td>\n",
       "      <td>Machine Learning Engineer</td>\n",
       "      <td>1.0</td>\n",
       "      <td>Mumbai</td>\n",
       "      <td>₹9,39,843/yr</td>\n",
       "    </tr>\n",
       "  </tbody>\n",
       "</table>\n",
       "<p>4344 rows × 5 columns</p>\n",
       "</div>"
      ],
      "text/plain": [
       "                   Company Name                             Job Title  \\\n",
       "0                      Mu Sigma                        Data Scientist   \n",
       "1                           IBM                        Data Scientist   \n",
       "2     Tata Consultancy Services                        Data Scientist   \n",
       "3              Impact Analytics                        Data Scientist   \n",
       "4                     Accenture                        Data Scientist   \n",
       "...                         ...                                   ...   \n",
       "4339                    TaiyōAI            Machine Learning Scientist   \n",
       "4340    Decimal Point Analytics            Machine Learning Developer   \n",
       "4341                     MyWays            Machine Learning Developer   \n",
       "4342  Market Pulse Technologies  Software Engineer - Machine Learning   \n",
       "4343                    vPhrase             Machine Learning Engineer   \n",
       "\n",
       "      Salaries Reported   Location         Salary  \n",
       "0                 105.0  Bangalore   ₹6,48,573/yr  \n",
       "1                  95.0  Bangalore  ₹11,91,950/yr  \n",
       "2                  66.0  Bangalore   ₹8,36,874/yr  \n",
       "3                  40.0  Bangalore   ₹6,69,578/yr  \n",
       "4                  32.0  Bangalore   ₹9,44,110/yr  \n",
       "...                 ...        ...            ...  \n",
       "4339                1.0     Mumbai      ₹5,180/mo  \n",
       "4340                1.0     Mumbai   ₹7,51,286/yr  \n",
       "4341                1.0     Mumbai   ₹4,10,952/yr  \n",
       "4342                1.0     Mumbai  ₹16,12,324/yr  \n",
       "4343                1.0     Mumbai   ₹9,39,843/yr  \n",
       "\n",
       "[4344 rows x 5 columns]"
      ]
     },
     "execution_count": 18,
     "metadata": {},
     "output_type": "execute_result"
    }
   ],
   "source": [
    "# Display the dataset summary\n",
    "\n",
    "db"
   ]
  },
  {
   "cell_type": "code",
   "execution_count": 19,
   "id": "9851ef26",
   "metadata": {},
   "outputs": [
    {
     "data": {
      "text/html": [
       "<div>\n",
       "<style scoped>\n",
       "    .dataframe tbody tr th:only-of-type {\n",
       "        vertical-align: middle;\n",
       "    }\n",
       "\n",
       "    .dataframe tbody tr th {\n",
       "        vertical-align: top;\n",
       "    }\n",
       "\n",
       "    .dataframe thead th {\n",
       "        text-align: right;\n",
       "    }\n",
       "</style>\n",
       "<table border=\"1\" class=\"dataframe\">\n",
       "  <thead>\n",
       "    <tr style=\"text-align: right;\">\n",
       "      <th></th>\n",
       "      <th>Company Name</th>\n",
       "      <th>Job Title</th>\n",
       "      <th>Salaries Reported</th>\n",
       "      <th>Location</th>\n",
       "      <th>Salary</th>\n",
       "    </tr>\n",
       "  </thead>\n",
       "  <tbody>\n",
       "    <tr>\n",
       "      <th>0</th>\n",
       "      <td>1452</td>\n",
       "      <td>8</td>\n",
       "      <td>105.0</td>\n",
       "      <td>Bangalore</td>\n",
       "      <td>₹6,48,573/yr</td>\n",
       "    </tr>\n",
       "    <tr>\n",
       "      <th>1</th>\n",
       "      <td>1019</td>\n",
       "      <td>8</td>\n",
       "      <td>95.0</td>\n",
       "      <td>Bangalore</td>\n",
       "      <td>₹11,91,950/yr</td>\n",
       "    </tr>\n",
       "    <tr>\n",
       "      <th>2</th>\n",
       "      <td>2123</td>\n",
       "      <td>8</td>\n",
       "      <td>66.0</td>\n",
       "      <td>Bangalore</td>\n",
       "      <td>₹8,36,874/yr</td>\n",
       "    </tr>\n",
       "    <tr>\n",
       "      <th>3</th>\n",
       "      <td>1064</td>\n",
       "      <td>8</td>\n",
       "      <td>40.0</td>\n",
       "      <td>Bangalore</td>\n",
       "      <td>₹6,69,578/yr</td>\n",
       "    </tr>\n",
       "    <tr>\n",
       "      <th>4</th>\n",
       "      <td>66</td>\n",
       "      <td>8</td>\n",
       "      <td>32.0</td>\n",
       "      <td>Bangalore</td>\n",
       "      <td>₹9,44,110/yr</td>\n",
       "    </tr>\n",
       "    <tr>\n",
       "      <th>...</th>\n",
       "      <td>...</td>\n",
       "      <td>...</td>\n",
       "      <td>...</td>\n",
       "      <td>...</td>\n",
       "      <td>...</td>\n",
       "    </tr>\n",
       "    <tr>\n",
       "      <th>4339</th>\n",
       "      <td>2113</td>\n",
       "      <td>21</td>\n",
       "      <td>1.0</td>\n",
       "      <td>Mumbai</td>\n",
       "      <td>₹5,180/mo</td>\n",
       "    </tr>\n",
       "    <tr>\n",
       "      <th>4340</th>\n",
       "      <td>610</td>\n",
       "      <td>18</td>\n",
       "      <td>1.0</td>\n",
       "      <td>Mumbai</td>\n",
       "      <td>₹7,51,286/yr</td>\n",
       "    </tr>\n",
       "    <tr>\n",
       "      <th>4341</th>\n",
       "      <td>1460</td>\n",
       "      <td>18</td>\n",
       "      <td>1.0</td>\n",
       "      <td>Mumbai</td>\n",
       "      <td>₹4,10,952/yr</td>\n",
       "    </tr>\n",
       "    <tr>\n",
       "      <th>4342</th>\n",
       "      <td>1357</td>\n",
       "      <td>25</td>\n",
       "      <td>1.0</td>\n",
       "      <td>Mumbai</td>\n",
       "      <td>₹16,12,324/yr</td>\n",
       "    </tr>\n",
       "    <tr>\n",
       "      <th>4343</th>\n",
       "      <td>2524</td>\n",
       "      <td>19</td>\n",
       "      <td>1.0</td>\n",
       "      <td>Mumbai</td>\n",
       "      <td>₹9,39,843/yr</td>\n",
       "    </tr>\n",
       "  </tbody>\n",
       "</table>\n",
       "<p>4344 rows × 5 columns</p>\n",
       "</div>"
      ],
      "text/plain": [
       "      Company Name  Job Title  Salaries Reported   Location         Salary\n",
       "0             1452          8              105.0  Bangalore   ₹6,48,573/yr\n",
       "1             1019          8               95.0  Bangalore  ₹11,91,950/yr\n",
       "2             2123          8               66.0  Bangalore   ₹8,36,874/yr\n",
       "3             1064          8               40.0  Bangalore   ₹6,69,578/yr\n",
       "4               66          8               32.0  Bangalore   ₹9,44,110/yr\n",
       "...            ...        ...                ...        ...            ...\n",
       "4339          2113         21                1.0     Mumbai      ₹5,180/mo\n",
       "4340           610         18                1.0     Mumbai   ₹7,51,286/yr\n",
       "4341          1460         18                1.0     Mumbai   ₹4,10,952/yr\n",
       "4342          1357         25                1.0     Mumbai  ₹16,12,324/yr\n",
       "4343          2524         19                1.0     Mumbai   ₹9,39,843/yr\n",
       "\n",
       "[4344 rows x 5 columns]"
      ]
     },
     "execution_count": 19,
     "metadata": {},
     "output_type": "execute_result"
    }
   ],
   "source": [
    "# Changing Company name and job title into figures in order to plot the information\n",
    "\n",
    "def label_encoder(db_: pd.DataFrame(), columns_name_: list):\n",
    "    le = LabelEncoder()\n",
    "    for i in columns_name_:\n",
    "        le.fit(db_[i])\n",
    "        db_[i] = le.transform(db_[i])\n",
    "    return db_\n",
    "\n",
    "db = label_encoder(db, ['Company Name', 'Job Title'])\n",
    "db"
   ]
  },
  {
   "cell_type": "code",
   "execution_count": 21,
   "id": "164fa90e",
   "metadata": {},
   "outputs": [
    {
     "name": "stdout",
     "output_type": "stream",
     "text": [
      "<class 'pandas.core.frame.DataFrame'>\n",
      "RangeIndex: 4344 entries, 0 to 4343\n",
      "Data columns (total 5 columns):\n",
      " #   Column             Non-Null Count  Dtype  \n",
      "---  ------             --------------  -----  \n",
      " 0   Company Name       4344 non-null   int32  \n",
      " 1   Job Title          4344 non-null   int32  \n",
      " 2   Salaries Reported  4342 non-null   float64\n",
      " 3   Location           4344 non-null   object \n",
      " 4   Salary             4344 non-null   object \n",
      "dtypes: float64(1), int32(2), object(2)\n",
      "memory usage: 135.9+ KB\n"
     ]
    }
   ],
   "source": [
    "# Checking the structure of the dataset\n",
    "\n",
    "db.info()"
   ]
  },
  {
   "cell_type": "code",
   "execution_count": 22,
   "id": "07e69a8d",
   "metadata": {},
   "outputs": [
    {
     "data": {
      "text/plain": [
       "Company Name         0\n",
       "Job Title            0\n",
       "Salaries Reported    2\n",
       "Location             0\n",
       "Salary               0\n",
       "dtype: int64"
      ]
     },
     "execution_count": 22,
     "metadata": {},
     "output_type": "execute_result"
    }
   ],
   "source": [
    "# Checking for Null values in the dataset\n",
    "\n",
    "db.isnull().sum()"
   ]
  },
  {
   "cell_type": "code",
   "execution_count": 23,
   "id": "e5e2237d",
   "metadata": {},
   "outputs": [],
   "source": [
    "# Replacing Null values with zeros\n",
    "\n",
    "db.fillna(0, inplace=True)"
   ]
  },
  {
   "cell_type": "code",
   "execution_count": 24,
   "id": "463a3a8e",
   "metadata": {},
   "outputs": [
    {
     "data": {
      "text/plain": [
       "Company Name         0\n",
       "Job Title            0\n",
       "Salaries Reported    0\n",
       "Location             0\n",
       "Salary               0\n",
       "dtype: int64"
      ]
     },
     "execution_count": 24,
     "metadata": {},
     "output_type": "execute_result"
    }
   ],
   "source": [
    "# Confirming that Null values have been replaced\n",
    "\n",
    "db.isnull().sum()"
   ]
  },
  {
   "cell_type": "code",
   "execution_count": 32,
   "id": "386fed1d",
   "metadata": {
    "scrolled": false
   },
   "outputs": [
    {
     "data": {
      "image/png": "[encoded data removed]",
      "text/plain": [
       "<Figure size 640x480 with 1 Axes>"
      ]
     },
     "metadata": {},
     "output_type": "display_data"
    }
   ],
   "source": [
    "# Define the independent and dependent variables, Create a linear regression object, Fit the model using the training data\n",
    "# Make predictions on new data, Plot the results\n",
    "# The red line represents the regression line predicting future values for reported salaries for the different companies\n",
    "\n",
    "X = db['Company Name'].values.reshape(-1, 1)\n",
    "y = db['Salaries Reported'].values.reshape(-1, 1)\n",
    "regressor = LinearRegression()\n",
    "regressor.fit(X, y)\n",
    "new_data = np.array([1, 2, 3, 4, 5, 2500]).reshape(-1, 1)\n",
    "predictions = regressor.predict(new_data)\n",
    "mpl.scatter(X, y)\n",
    "mpl.plot(new_data, predictions, color='red')\n",
    "mpl.show()"
   ]
  },
  {
   "cell_type": "code",
   "execution_count": 31,
   "id": "20562f08",
   "metadata": {},
   "outputs": [
    {
     "data": {
      "image/png": "[encoded data removed]",
      "text/plain": [
       "<Figure size 640x480 with 1 Axes>"
      ]
     },
     "metadata": {},
     "output_type": "display_data"
    }
   ],
   "source": [
    "# The regression line predicts future reported salaries for the different job title available\n",
    "\n",
    "X = db['Job Title'].values.reshape(-1, 1)\n",
    "y = db['Salaries Reported'].values.reshape(-1, 1)\n",
    "regressor = LinearRegression()\n",
    "regressor.fit(X, y)\n",
    "new_data = np.array([-1, 0, 1, 2, 3, 4, 5, 6, 7, 8, 9, 10, 25]).reshape(-1, 1)\n",
    "predictions = regressor.predict(new_data)\n",
    "mpl.scatter(X, y)\n",
    "mpl.plot(new_data, predictions, color='red')\n",
    "mpl.show()"
   ]
  },
  {
   "cell_type": "code",
   "execution_count": null,
   "id": "52b70c65",
   "metadata": {},
   "outputs": [],
   "source": []
  }
 ],
 "metadata": {
  "kernelspec": {
   "display_name": "Python 3 (ipykernel)",
   "language": "python",
   "name": "python3"
  },
  "language_info": {
   "codemirror_mode": {
    "name": "ipython",
    "version": 3
   },
   "file_extension": ".py",
   "mimetype": "text/x-python",
   "name": "python",
   "nbconvert_exporter": "python",
   "pygments_lexer": "ipython3",
   "version": "3.11.4"
  }
 },
 "nbformat": 4,
 "nbformat_minor": 5
}
